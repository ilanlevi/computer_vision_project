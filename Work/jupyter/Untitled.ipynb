{
 "cells": [
  {
   "cell_type": "code",
   "execution_count": 3,
   "metadata": {},
   "outputs": [],
   "source": [
    "import cv2\n",
    "import numpy as np\n"
   ]
  },
  {
   "cell_type": "code",
   "execution_count": 7,
   "metadata": {},
   "outputs": [
    {
     "ename": "ImportError",
     "evalue": "No module named models.ThreeD_Model",
     "output_type": "error",
     "traceback": [
      "\u001b[1;31m---------------------------------------------------------------------------\u001b[0m",
      "\u001b[1;31mImportError\u001b[0m                               Traceback (most recent call last)",
      "\u001b[1;32m<ipython-input-7-20082d749f4a>\u001b[0m in \u001b[0;36m<module>\u001b[1;34m()\u001b[0m\n\u001b[1;32m----> 1\u001b[1;33m \u001b[1;32mimport\u001b[0m \u001b[0mmodels\u001b[0m\u001b[1;33m.\u001b[0m\u001b[0mThreeD_Model\u001b[0m\u001b[1;33m\u001b[0m\u001b[0m\n\u001b[0m\u001b[0;32m      2\u001b[0m \u001b[1;32mfrom\u001b[0m \u001b[0mWork\u001b[0m\u001b[1;33m.\u001b[0m\u001b[0mconsts\u001b[0m\u001b[1;33m.\u001b[0m\u001b[0mcsv_consts\u001b[0m \u001b[1;32mimport\u001b[0m \u001b[0mCsvConsts\u001b[0m\u001b[1;33m\u001b[0m\u001b[0m\n\u001b[0;32m      3\u001b[0m \u001b[1;32mfrom\u001b[0m \u001b[0mWork\u001b[0m\u001b[1;33m.\u001b[0m\u001b[0mconsts\u001b[0m\u001b[1;33m.\u001b[0m\u001b[0mfiles_consts\u001b[0m \u001b[1;32mimport\u001b[0m \u001b[0mFileConsts\u001b[0m \u001b[1;32mas\u001b[0m \u001b[0mfConsts\u001b[0m\u001b[1;33m\u001b[0m\u001b[0m\n\u001b[0;32m      4\u001b[0m \u001b[1;32mfrom\u001b[0m \u001b[0mWork\u001b[0m\u001b[1;33m.\u001b[0m\u001b[0mconsts\u001b[0m\u001b[1;33m.\u001b[0m\u001b[0mfpn_model_consts\u001b[0m \u001b[1;32mimport\u001b[0m \u001b[0mFPNConsts\u001b[0m\u001b[1;33m\u001b[0m\u001b[0m\n\u001b[0;32m      5\u001b[0m \u001b[1;32mfrom\u001b[0m \u001b[0mWork\u001b[0m\u001b[1;33m.\u001b[0m\u001b[0mdata\u001b[0m\u001b[1;33m.\u001b[0m\u001b[0mhelen_data\u001b[0m \u001b[1;32mimport\u001b[0m \u001b[0mHelenDataSet\u001b[0m\u001b[1;33m\u001b[0m\u001b[0m\n",
      "\u001b[1;31mImportError\u001b[0m: No module named models.ThreeD_Model"
     ]
    }
   ],
   "source": [
    "import models.ThreeD_Model\n",
    "from Work.consts.csv_consts import CsvConsts\n",
    "from Work.consts.files_consts import FileConsts as fConsts\n",
    "from Work.consts.fpn_model_consts import FPNConsts\n",
    "from Work.data.helen_data import HelenDataSet\n",
    "from Work.utils import camera_calibration as calib\n",
    "from Work.utils.dlib_landmarks import DlibLandmarks\n",
    "from Work.tools.csv_files_tools import write_csv\n"
   ]
  },
  {
   "cell_type": "code",
   "execution_count": null,
   "metadata": {},
   "outputs": [],
   "source": []
  }
 ],
 "metadata": {
  "kernelspec": {
   "display_name": "Python 2",
   "language": "python",
   "name": "python2"
  },
  "language_info": {
   "codemirror_mode": {
    "name": "ipython",
    "version": 2
   },
   "file_extension": ".py",
   "mimetype": "text/x-python",
   "name": "python",
   "nbconvert_exporter": "python",
   "pygments_lexer": "ipython2",
   "version": "2.7.16"
  }
 },
 "nbformat": 4,
 "nbformat_minor": 2
}
